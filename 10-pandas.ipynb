{
 "cells": [
  {
   "cell_type": "markdown",
   "metadata": {},
   "source": [
    "# Pandas\n",
    "\n",
    "[Pandas](http://pandas.pydata.org/) jest biblioteką przeznaczoną do analizy danych."
   ]
  },
  {
   "cell_type": "code",
   "execution_count": null,
   "metadata": {},
   "outputs": [],
   "source": [
    "import pandas as pd\n",
    "import numpy as np\n",
    "import matplotlib.pyplot as plt"
   ]
  },
  {
   "cell_type": "markdown",
   "metadata": {},
   "source": [
    "## Series\n",
    "\n",
    "Seria to struktura jednowymiarowa. Każdy element ma przypisany domyślny lub wybrany indeks. Można je tworzyć z innych struktur danych."
   ]
  },
  {
   "cell_type": "code",
   "execution_count": null,
   "metadata": {},
   "outputs": [],
   "source": [
    "pd.Series(np.random.randn(5))"
   ]
  },
  {
   "cell_type": "code",
   "execution_count": null,
   "metadata": {},
   "outputs": [],
   "source": [
    "pd.Series(np.random.randn(5), index=['a', 'b', 'c', 'd', 'e'])"
   ]
  },
  {
   "cell_type": "code",
   "execution_count": null,
   "metadata": {},
   "outputs": [],
   "source": [
    "pd.Series({'a' : 0., 'b' : 1., 'c' : 2.})"
   ]
  },
  {
   "cell_type": "code",
   "execution_count": null,
   "metadata": {},
   "outputs": [],
   "source": [
    "s = pd.Series(np.random.randn(5), index=list('abcde'))\n",
    "print(s)"
   ]
  },
  {
   "cell_type": "code",
   "execution_count": null,
   "metadata": {},
   "outputs": [],
   "source": [
    "# pobieranie danych\n",
    "print('s[1] = \\n{}'.format(s.iloc[1]))\n",
    "print('s[2:] = \\n{}'.format(s.iloc[2:]))\n",
    "print('s[1:-2] = \\n{}'.format(s.iloc[1:-2]))"
   ]
  },
  {
   "cell_type": "code",
   "execution_count": null,
   "metadata": {},
   "outputs": [],
   "source": [
    "# pobieranie danych z wykorzystaniem nazwanego indeksu\n",
    "print('s[\"b\"] = \\n{}'.format(s['b']))\n",
    "print('s[\"c\":] = \\n{}'.format(s['c':]))\n",
    "print('s[\"b\":\"c\"] = \\n{}'.format(s['b':'c']))"
   ]
  },
  {
   "cell_type": "code",
   "execution_count": null,
   "metadata": {},
   "outputs": [],
   "source": [
    "# na seriach można wykonywać operacje\n",
    "print(f's*5 = \\n{s*5}')\n",
    "print(f's**3 = \\n{s**3}')\n",
    "print(f's*s = \\n{s*s}')\n",
    "print(f's+s = \\n{s+s}')"
   ]
  },
  {
   "cell_type": "code",
   "execution_count": null,
   "metadata": {},
   "outputs": [],
   "source": [
    "# oraz je rysować\n",
    "%matplotlib inline\n",
    "\n",
    "s.plot()"
   ]
  },
  {
   "cell_type": "markdown",
   "metadata": {},
   "source": [
    "## DataFrame\n",
    "\n",
    "DataFrame jest obiektem dwuwymiarowym, każda kolumna odpowiada serii. Wszystkie kolumny mają wspólny indeks w wierszach."
   ]
  },
  {
   "cell_type": "code",
   "execution_count": null,
   "metadata": {},
   "outputs": [],
   "source": [
    "df = pd.DataFrame(np.random.randn(10,4), index=pd.date_range('20210410', periods=10), columns=list('ABCD'))\n",
    "print(df)\n",
    "display(df) # wydruk sformatowany\n",
    "df"
   ]
  },
  {
   "cell_type": "code",
   "execution_count": null,
   "metadata": {},
   "outputs": [],
   "source": [
    "# obiekty mogą być zapisywane do plików i wczytywane z plików CSV, JSON, Pickle, Parquet, XML, Excel, ...\n",
    "# dla niektórych formatów wymagana jest instalacja dodatkowych bibliotek (tzw. engine)\n",
    "# możliwy jest również zapis/odczyt z innych źródeł (baza SQL)\n",
    "df.to_csv('sample.csv')\n",
    "dataframe = pd.read_csv('sample.csv', index_col=0)\n",
    "dataframe\n",
    "\n",
    "df.to_json('sample.json')\n",
    "df.to_xml('sample.xml')\n",
    "df.to_pickle('sample.pickle')\n",
    "# df.to_parquet('sample.parquet')"
   ]
  },
  {
   "cell_type": "code",
   "execution_count": null,
   "metadata": {},
   "outputs": [],
   "source": [
    "# podejrzenie początku tabeli\n",
    "df.head()"
   ]
  },
  {
   "cell_type": "code",
   "execution_count": null,
   "metadata": {},
   "outputs": [],
   "source": [
    "# podejrzenie końca tabeli\n",
    "df.tail(3)"
   ]
  },
  {
   "cell_type": "code",
   "execution_count": null,
   "metadata": {},
   "outputs": [],
   "source": [
    "# podejrzenie losowych wierszy\n",
    "df.sample(5)"
   ]
  },
  {
   "cell_type": "code",
   "execution_count": null,
   "metadata": {},
   "outputs": [],
   "source": [
    "df.columns"
   ]
  },
  {
   "cell_type": "code",
   "execution_count": null,
   "metadata": {},
   "outputs": [],
   "source": [
    "df.index"
   ]
  },
  {
   "cell_type": "code",
   "execution_count": null,
   "metadata": {},
   "outputs": [],
   "source": [
    "# wybrana kolumna\n",
    "df['A']"
   ]
  },
  {
   "cell_type": "code",
   "execution_count": null,
   "metadata": {},
   "outputs": [],
   "source": [
    "# filtrowanie wyników\n",
    "df[df.B > 0.0]"
   ]
  },
  {
   "cell_type": "code",
   "execution_count": null,
   "metadata": {},
   "outputs": [],
   "source": [
    "# sprawdzenie warunku w serii\n",
    "df.B > 0.0"
   ]
  },
  {
   "cell_type": "code",
   "execution_count": null,
   "metadata": {},
   "outputs": [],
   "source": [
    "# operacje na danych - pobieranie i zmiana\n",
    "print('at')\n",
    "print(df.at[df.index[0],'A'])\n",
    "df.at[df.index[0],'A'] = 2.0\n",
    "print(df.at[df.index[0],'A'])\n",
    "\n",
    "print('iat')\n",
    "print(df.iat[0,0])\n",
    "df.iat[0,0] = np.random.rand()\n",
    "print(df.iat[0,0])"
   ]
  },
  {
   "cell_type": "code",
   "execution_count": null,
   "metadata": {},
   "outputs": [],
   "source": [
    "# sortowanie po indeksach\n",
    "df.sort_index(ascending=False)"
   ]
  },
  {
   "cell_type": "code",
   "execution_count": null,
   "metadata": {},
   "outputs": [],
   "source": [
    "# sortowanie po kolumnach\n",
    "df.sort_index(axis=1,ascending=False)"
   ]
  },
  {
   "cell_type": "code",
   "execution_count": null,
   "metadata": {},
   "outputs": [],
   "source": [
    "# sortowanie po wartościach\n",
    "df.sort_values('A')"
   ]
  },
  {
   "cell_type": "code",
   "execution_count": null,
   "metadata": {},
   "outputs": [],
   "source": [
    "# usuwanie kolumny\n",
    "df.drop(axis=1, labels=['C'])"
   ]
  },
  {
   "cell_type": "code",
   "execution_count": null,
   "metadata": {},
   "outputs": [],
   "source": [
    "# zmianę obiektu można wykonać poprzez przypisanie lub parametr inplace\n",
    "df.drop(axis=1, labels=['B'], inplace=True)\n",
    "df"
   ]
  },
  {
   "cell_type": "code",
   "execution_count": null,
   "metadata": {},
   "outputs": [],
   "source": [
    "# dodawanie kolumny\n",
    "df['B'] = np.random.randn(10,1)\n",
    "df"
   ]
  },
  {
   "cell_type": "code",
   "execution_count": null,
   "metadata": {},
   "outputs": [],
   "source": [
    "# dodawanie kolumny oraz wiersza bez określonych wartości\n",
    "df['X'] = np.NaN\n",
    "df = pd.concat([df, pd.DataFrame(np.NaN, index=pd.date_range('20230701', periods=1), columns=df.columns)])\n",
    "# dawniej\n",
    "# df = df.append(pd.DataFrame(np.NaN, index=pd.date_range('20230701', periods=1), columns=df.columns))\n",
    "df"
   ]
  },
  {
   "cell_type": "code",
   "execution_count": null,
   "metadata": {},
   "outputs": [],
   "source": [
    "# usuwanie wierszy z nieokreślonymi wartościami\n",
    "df.dropna(how='any')"
   ]
  },
  {
   "cell_type": "code",
   "execution_count": null,
   "metadata": {},
   "outputs": [],
   "source": [
    "df.dropna(how='all', inplace=True)\n",
    "df"
   ]
  },
  {
   "cell_type": "code",
   "execution_count": null,
   "metadata": {},
   "outputs": [],
   "source": [
    "# uzupełnianie wartości NaN\n",
    "df.fillna(-10.0, inplace=True)\n",
    "df"
   ]
  },
  {
   "cell_type": "code",
   "execution_count": null,
   "metadata": {},
   "outputs": [],
   "source": [
    "df.drop(index=pd.Timestamp('20210419'), inplace=True)\n",
    "df"
   ]
  },
  {
   "cell_type": "code",
   "execution_count": null,
   "metadata": {},
   "outputs": [],
   "source": [
    "# zmiana wybranych wartości\n",
    "# wyłączenie ostrzeżenia: pd.options.mode.chained_assignment = None\n",
    "df.loc[df['C'] > 0.5, 'X'] = 30.0\n",
    "df"
   ]
  },
  {
   "cell_type": "code",
   "execution_count": null,
   "metadata": {},
   "outputs": [],
   "source": [
    "# transpozycja\n",
    "df.transpose()"
   ]
  },
  {
   "cell_type": "code",
   "execution_count": null,
   "metadata": {},
   "outputs": [],
   "source": [
    "# podstawowe informacje statystyczne\n",
    "df.describe()"
   ]
  },
  {
   "cell_type": "code",
   "execution_count": null,
   "metadata": {},
   "outputs": [],
   "source": [
    "# DataFrame można tworzyć na różne sposoby\n",
    "pd.DataFrame({ 'A' : 1.,\n",
    "               'B' : pd.Timestamp('20210401'),\n",
    "               'C' : pd.Series(1, index=list(range(4)), dtype='float32'),\n",
    "               'D' : np.array([3] * 4, dtype='int32'),\n",
    "               'E' : pd.Categorical(['car','train','bike','ship']),\n",
    "               'F' : np.random.randint(0, 200000, 4),\n",
    "               'G' : np.random.rand(4),\n",
    "               'H' : 'foo' })"
   ]
  },
  {
   "cell_type": "markdown",
   "metadata": {},
   "source": [
    "Zobacz również [dokumentację](http://pandas.pydata.org/pandas-docs/stable/index.html) oraz [Pandas Cheat Sheet](https://github.com/pandas-dev/pandas/blob/main/doc/cheatsheet/Pandas_Cheat_Sheet.pdf)"
   ]
  },
  {
   "cell_type": "markdown",
   "metadata": {},
   "source": [
    "### Zadanie\n",
    "\n",
    "Utwórz DataFrame `samochody` z tysiącem losowych danych:\n",
    "- `przebieg` z przedziału [0, 200 000]\n",
    "- `spalanie` z przedziału [2, 20]\n",
    "\n",
    "Dodaj kolumnę `marka`:\n",
    "- jeżeli samochód ma spalanie [0, 8] marka to VW\n",
    "- jeżeli samochód ma spalanie [8, 12] marka to Ford\n",
    "- jeżeli samochód ma spalanie 13 i więcej, marka to UAZ\n",
    "    \n",
    "Dodaj kolumnę `pochodzenie`:\n",
    "- jeżeli przebieg poniżej 100 km, pochodzenie `new`\n",
    "- jeżeli przebieg powyżej 100 km, pochodzenie `PL`\n",
    "- jeżeli przebieg powyżej 100 000 km, pochodzenie `DE`\n",
    "- zapisz dane do pliku\n",
    "\n",
    "Przeanalizuj dane statystycznie:\n",
    "- pogrupuj dane po marce i po pochodzeniu (wskazówka: użyj `groupby(['marka', 'pochodzenie'])` i wskaż wybraną funkcję statystyczną (np. średnią)\n",
    "- narysuj wykres przeanalizowanych danych (wskazówka: użyj wykresu typu `bar`, wskaż drugą oś y `secondary_y=['przebieg']`)\n",
    "- sprawdź liczność grup i narysuj wykres\n",
    "- wykonaj analizę statystyczną"
   ]
  },
  {
   "cell_type": "code",
   "execution_count": null,
   "metadata": {},
   "outputs": [],
   "source": []
  }
 ],
 "metadata": {
  "kernelspec": {
   "display_name": "Python 3 (ipykernel)",
   "language": "python",
   "name": "python3"
  },
  "language_info": {
   "codemirror_mode": {
    "name": "ipython",
    "version": 3
   },
   "file_extension": ".py",
   "mimetype": "text/x-python",
   "name": "python",
   "nbconvert_exporter": "python",
   "pygments_lexer": "ipython3",
   "version": "3.11.7"
  }
 },
 "nbformat": 4,
 "nbformat_minor": 4
}

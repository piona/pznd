{
 "cells": [
  {
   "cell_type": "markdown",
   "metadata": {},
   "source": [
    "# Python: typy liczbowe i operatory"
   ]
  },
  {
   "cell_type": "markdown",
   "metadata": {},
   "source": [
    "## Typy liczbowe\n",
    "\n",
    "W Python dostępne są trzy wbudowane typy liczbowe:\n",
    "- `int` - całkowitoliczbowy o dowolnej precyzji\n",
    "- `float` - zmiennoprzecinkowy\n",
    "- `complex` - liczby zespolone"
   ]
  },
  {
   "cell_type": "code",
   "execution_count": null,
   "metadata": {},
   "outputs": [],
   "source": [
    "# deklaracja zmiennych nie wymaga podania typu\n",
    "file_size = 746\n",
    "file_size # z komórki drukowany jest wynik ostatniego wyrażenia"
   ]
  },
  {
   "cell_type": "code",
   "execution_count": null,
   "metadata": {},
   "outputs": [],
   "source": [
    "# funkcja wbudowana type zwraca typ zmiennej\n",
    "type(file_size)"
   ]
  },
  {
   "cell_type": "code",
   "execution_count": null,
   "metadata": {},
   "outputs": [],
   "source": [
    "# \"stałe\" zazwyczaj nazywamy używając wielkich liter\n",
    "MEGA = 1000000\n",
    "MEGA = 1_000_000 # znak _ zwiększa czytelność\n",
    "\n",
    "# formatowanie napisów\n",
    "# konkatenacja, powoduje tworzenie wielu obiektów str\n",
    "print(str(file_size * MEGA) + ' bytes')\n",
    "# oparator %, starsza metoda\n",
    "print('%d bytes' % (file_size * MEGA))\n",
    "# wywołanie format na str\n",
    "print('{} bytes'.format(file_size * MEGA))\n",
    "# f-string, od Python 3.6\n",
    "print(f'{file_size * MEGA} bytes')\n",
    "# drukowanie nazw zmiennych, od Python 3.8\n",
    "print(f'{file_size = } bytes')"
   ]
  },
  {
   "cell_type": "code",
   "execution_count": null,
   "metadata": {},
   "outputs": [],
   "source": [
    "# konwersja do typu int\n",
    "int(4)"
   ]
  },
  {
   "cell_type": "code",
   "execution_count": null,
   "metadata": {},
   "outputs": [],
   "source": [
    "int(-5.6)"
   ]
  },
  {
   "cell_type": "code",
   "execution_count": null,
   "metadata": {},
   "outputs": [],
   "source": [
    "int('90')"
   ]
  },
  {
   "cell_type": "code",
   "execution_count": null,
   "metadata": {},
   "outputs": [],
   "source": [
    "int('12,2')"
   ]
  },
  {
   "cell_type": "code",
   "execution_count": null,
   "metadata": {},
   "outputs": [],
   "source": [
    "# typ zmiennoprzecinkowy\n",
    "pressure = 998.5\n",
    "type(pressure)"
   ]
  },
  {
   "cell_type": "code",
   "execution_count": null,
   "metadata": {},
   "outputs": [],
   "source": [
    "# zapis inżynierski\n",
    "pressure = 9.985 * 1e2\n",
    "pressure = 9.985e2\n",
    "pressure"
   ]
  },
  {
   "cell_type": "code",
   "execution_count": null,
   "metadata": {},
   "outputs": [],
   "source": [
    "# konwersja do typu float\n",
    "float(998)"
   ]
  },
  {
   "cell_type": "code",
   "execution_count": null,
   "metadata": {},
   "outputs": [],
   "source": [
    "float('2_5')"
   ]
  },
  {
   "cell_type": "code",
   "execution_count": null,
   "metadata": {},
   "outputs": [],
   "source": [
    "# zaokrąglanie\n",
    "round(-3.4)"
   ]
  },
  {
   "cell_type": "code",
   "execution_count": null,
   "metadata": {},
   "outputs": [],
   "source": [
    "# wartość bezwzględnia\n",
    "abs(-5.6)"
   ]
  },
  {
   "cell_type": "code",
   "execution_count": null,
   "metadata": {},
   "outputs": [],
   "source": [
    "# liczby zespolone\n",
    "cplx_1 = 2+3j\n",
    "cplx_2 = complex('1.2-2j')\n",
    "print(f'{cplx_1} is {type(cplx_1)}')\n",
    "print(cplx_2)"
   ]
  },
  {
   "cell_type": "markdown",
   "metadata": {},
   "source": [
    "## Operatory arytmetyczne"
   ]
  },
  {
   "cell_type": "code",
   "execution_count": null,
   "metadata": {},
   "outputs": [],
   "source": [
    "x = 2\n",
    "y = x + 2\n",
    "1 + 3 - 2*x + y"
   ]
  },
  {
   "cell_type": "code",
   "execution_count": null,
   "metadata": {},
   "outputs": [],
   "source": [
    "# dzielenie\n",
    "3 / 2"
   ]
  },
  {
   "cell_type": "code",
   "execution_count": null,
   "metadata": {},
   "outputs": [],
   "source": [
    "# dzielenie całkowite (obcinające)\n",
    "5 // 2"
   ]
  },
  {
   "cell_type": "code",
   "execution_count": null,
   "metadata": {},
   "outputs": [],
   "source": [
    "# reszta z dzielenia (modulo)\n",
    "5 % 2"
   ]
  },
  {
   "cell_type": "code",
   "execution_count": null,
   "metadata": {},
   "outputs": [],
   "source": [
    "# potęgowanie\n",
    "2 ** 3"
   ]
  },
  {
   "cell_type": "code",
   "execution_count": null,
   "metadata": {},
   "outputs": [],
   "source": [
    "2 ** 0.5"
   ]
  },
  {
   "cell_type": "code",
   "execution_count": null,
   "metadata": {},
   "outputs": [],
   "source": [
    "# potęgowanie za pomocą funkcji pow\n",
    "sqrt_2 = pow(2, 1/2)\n",
    "print(sqrt_2)\n",
    "print(f'{sqrt_2:.2f}')"
   ]
  },
  {
   "cell_type": "markdown",
   "metadata": {},
   "source": [
    "## Operatory przypisania"
   ]
  },
  {
   "cell_type": "code",
   "execution_count": null,
   "metadata": {},
   "outputs": [],
   "source": [
    "# przypisanie\n",
    "value = 2\n",
    "value = value + 1\n",
    "print(value)\n",
    "# skrócona wersja value = value + 1\n",
    "value += 1\n",
    "value"
   ]
  },
  {
   "cell_type": "code",
   "execution_count": null,
   "metadata": {},
   "outputs": [],
   "source": [
    "# skrócony zapis dla innych operatorów\n",
    "value = 4\n",
    "value -= 1\n",
    "value *= 3\n",
    "value /= 2\n",
    "value //= 2\n",
    "value %= 3\n",
    "value **= 9\n",
    "value"
   ]
  },
  {
   "cell_type": "markdown",
   "metadata": {},
   "source": [
    "## Operatory bitowe ★"
   ]
  },
  {
   "cell_type": "code",
   "execution_count": null,
   "metadata": {},
   "outputs": [],
   "source": [
    "# wykonanie operacji na poszczególnych bitach\n",
    "x = 10\n",
    "y = 12\n",
    "print(f'x      = {x:04b}') # reprezentacja bitowa\n",
    "print(f'y      = {y:04b}')\n",
    "print(f'x | y  = {x | y:04b}')  # alternatywa (or)\n",
    "print(f'x & y  = {x & y:04b}')  # koniunkcja (and)\n",
    "print(f'x ^ y  = {x ^ y:04b}')  # alternatywa wykluczająca (xor)\n",
    "print(f'~y     ={~y:04b}')      # uzupełnienie bitowe (bitwise complement, -y-1)\n",
    "print(f'x >> 1 = {x >> 1:04b}') # przesunięcie w prawo (right shift)\n",
    "print(f'x << 2 = {x << 2:04b}') # przesunięcie w lewo (left shift) \n"
   ]
  },
  {
   "cell_type": "code",
   "execution_count": null,
   "metadata": {},
   "outputs": [],
   "source": [
    "# skrócone wersje operatorów bitowych |=, &=, ^=, >>=, <<=\n",
    "x = 10\n",
    "y = 12\n",
    "x |= y\n",
    "print(str(x) + ' = ' + bin(x))\n",
    "x <<= 2\n",
    "print(x)"
   ]
  },
  {
   "cell_type": "markdown",
   "metadata": {},
   "source": [
    "## Typ logiczny\n",
    "\n",
    "W Python typem logicznym jest `bool`, który przyjmuje dwie wartości\n",
    "- `True` - prawda\n",
    "- `False` - fałsz"
   ]
  },
  {
   "cell_type": "code",
   "execution_count": null,
   "metadata": {},
   "outputs": [],
   "source": [
    "working = True\n",
    "working"
   ]
  },
  {
   "cell_type": "code",
   "execution_count": null,
   "metadata": {},
   "outputs": [],
   "source": [
    "working = bool(0)\n",
    "working"
   ]
  },
  {
   "cell_type": "markdown",
   "metadata": {},
   "source": [
    "## Operatory relacyjne\n",
    "\n",
    "Wynikiem działania operatorów relacyjnych jest wartość typu logicznego."
   ]
  },
  {
   "cell_type": "code",
   "execution_count": null,
   "metadata": {},
   "outputs": [],
   "source": [
    "x = 1\n",
    "y = 2\n",
    "x > y"
   ]
  },
  {
   "cell_type": "code",
   "execution_count": null,
   "metadata": {},
   "outputs": [],
   "source": [
    "3 >= 3"
   ]
  },
  {
   "cell_type": "code",
   "execution_count": null,
   "metadata": {},
   "outputs": [],
   "source": [
    "1 < 2 < 3"
   ]
  },
  {
   "cell_type": "code",
   "execution_count": null,
   "metadata": {},
   "outputs": [],
   "source": [
    "5 >= 6 <= 1"
   ]
  },
  {
   "cell_type": "code",
   "execution_count": null,
   "metadata": {},
   "outputs": [],
   "source": [
    "# oparatory porównania\n",
    "x = 2.0\n",
    "print(x == 2.0)\n",
    "print(x != x + 3)"
   ]
  },
  {
   "cell_type": "markdown",
   "metadata": {},
   "source": [
    "## Operatory logiczne"
   ]
  },
  {
   "cell_type": "code",
   "execution_count": null,
   "metadata": {},
   "outputs": [],
   "source": [
    "# koniunkcja (i)\n",
    "True and False"
   ]
  },
  {
   "cell_type": "code",
   "execution_count": null,
   "metadata": {},
   "outputs": [],
   "source": [
    "# alternatywa (lub)\n",
    "False or True"
   ]
  },
  {
   "cell_type": "code",
   "execution_count": null,
   "metadata": {},
   "outputs": [],
   "source": [
    "# negacja\n",
    "not False"
   ]
  },
  {
   "cell_type": "code",
   "execution_count": null,
   "metadata": {},
   "outputs": [],
   "source": [
    "start = 1.0\n",
    "stop = -2\n",
    "working = bool(-2)\n",
    "active = False\n",
    "not (start > stop) and (working or active)"
   ]
  },
  {
   "cell_type": "markdown",
   "metadata": {},
   "source": [
    "## None\n",
    "\n",
    "Typ `None` reprezentuje wartość pustą (nieustawioną). Jest to odpowiednik `null`/`nil` z innych języków."
   ]
  },
  {
   "cell_type": "code",
   "execution_count": null,
   "metadata": {},
   "outputs": [],
   "source": [
    "# zmienna istnieje, ale ma pustą wartość\n",
    "value = None\n",
    "value"
   ]
  },
  {
   "cell_type": "code",
   "execution_count": null,
   "metadata": {},
   "outputs": [],
   "source": [
    "# brak zdefiniowania zmiennej powoduje błąd\n",
    "not_defined"
   ]
  },
  {
   "cell_type": "code",
   "execution_count": null,
   "metadata": {},
   "outputs": [],
   "source": [
    "# do porównania używamy is\n",
    "value is None"
   ]
  },
  {
   "cell_type": "code",
   "execution_count": null,
   "metadata": {},
   "outputs": [],
   "source": [
    "value is not None"
   ]
  }
 ],
 "metadata": {
  "kernelspec": {
   "display_name": "Python 3 (ipykernel)",
   "language": "python",
   "name": "python3"
  },
  "language_info": {
   "codemirror_mode": {
    "name": "ipython",
    "version": 3
   },
   "file_extension": ".py",
   "mimetype": "text/x-python",
   "name": "python",
   "nbconvert_exporter": "python",
   "pygments_lexer": "ipython3",
   "version": "3.11.7"
  }
 },
 "nbformat": 4,
 "nbformat_minor": 4
}

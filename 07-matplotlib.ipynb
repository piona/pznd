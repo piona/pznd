{
 "cells": [
  {
   "cell_type": "markdown",
   "metadata": {},
   "source": [
    "## Matplotlib\n",
    "\n",
    "[Matplotlib](https://matplotlib.org/stable/) to jedna z bibliotek do wizualizacji."
   ]
  },
  {
   "cell_type": "code",
   "execution_count": null,
   "metadata": {},
   "outputs": [],
   "source": [
    "import matplotlib.pyplot as plt\n",
    "# specjalna komenda, która powoduje wklejanie do notebooka\n",
    "%matplotlib inline\n",
    "# możliwe jest ustawienie domyślnych parametrów tworzonych rysunków\n",
    "print('figure.figsize = ', plt.rcParams['figure.figsize'])\n",
    "plt.rcParams['figure.figsize'] = [6, 4]\n",
    "plt.rcParams['figure.dpi'] = 100"
   ]
  },
  {
   "cell_type": "code",
   "execution_count": null,
   "metadata": {},
   "outputs": [],
   "source": [
    "import numpy as np \n",
    "x = np.linspace(0, 10, 100) # ndarray\n",
    "y_sin = np.sin(x)\n",
    "x, y_sin"
   ]
  },
  {
   "cell_type": "code",
   "execution_count": null,
   "metadata": {},
   "outputs": [],
   "source": [
    "plt.plot(x, y_sin); # średnik jest używany aby oddzielić kawałki kodu, tutaj w celu pominięcia informacji o obiekcie"
   ]
  },
  {
   "cell_type": "markdown",
   "metadata": {},
   "source": [
    "Wykres składa się z kilku elementów:\n",
    "* `figure` - obiekt z osiami, może zawierać wiele rysunków\n",
    "* `axis` - osie danych w których dana krzywa jest osadzona\n",
    "* `line` - linia na wykresie; w osiach mogą znajdować się też inne rzeczy jak np. punkty\n",
    "\n",
    "W notebooku `figure` i `axis` tworzone są dla jednego rysunku automatycznie, więc domyślnie jeden rysunek definiowany jest w jednej komórce."
   ]
  },
  {
   "cell_type": "code",
   "execution_count": null,
   "metadata": {},
   "outputs": [],
   "source": [
    "y_cos = np.cos(x) # kolejna seria danych\n",
    "plt.plot(x, y_sin)\n",
    "# plt.show() # wymusza pokazanie wykresu\n",
    "plt.plot(x, y_cos); # użycie ; służy uniknięciu wypisania informacji o obiekcie"
   ]
  },
  {
   "cell_type": "markdown",
   "metadata": {},
   "source": [
    "Serie danych tworzą się automatycznie z kolejnymi kolorami. Możemy zdefiniować styl linii używając trzeciego argumentu w postaci tekstu; więcej informacji w [dokumentacji](https://matplotlib.org/stable/api/_as_gen/matplotlib.pyplot.plot.html#matplotlib.pyplot.plot)."
   ]
  },
  {
   "cell_type": "code",
   "execution_count": null,
   "metadata": {},
   "outputs": [],
   "source": [
    "plt.plot(x, y_sin, 'Dy')\n",
    "plt.plot(x, y_cos, '*b');"
   ]
  },
  {
   "cell_type": "code",
   "execution_count": null,
   "metadata": {},
   "outputs": [],
   "source": [
    "plt.axes().grid(axis='both', which='both')\n",
    "plt.title('Sinus i cosinus')\n",
    "# niekiedy kolejność wołania metod może być istotna, legend powinno być za plot\n",
    "plt.legend(['sin(x)', 'cos(x)'])\n",
    "plt.xlabel('x')\n",
    "plt.ylabel('y')\n",
    "plt.plot(x, y_sin, 'r')\n",
    "plt.plot(x, y_cos, 'H');"
   ]
  },
  {
   "cell_type": "markdown",
   "metadata": {},
   "source": [
    "Możliwe jest tworzenie podwykresów."
   ]
  },
  {
   "cell_type": "code",
   "execution_count": null,
   "metadata": {},
   "outputs": [],
   "source": [
    "plt.subplot(1, 2, 1)\n",
    "plt.plot(x, y_sin, 'r:')\n",
    "plt.legend(['a'])\n",
    "plt.ylabel('sin')\n",
    "\n",
    "plt.subplot(1, 2, 2)\n",
    "plt.plot(x, y_cos, 'c+')\n",
    "plt.legend(['a'])\n",
    "plt.xlabel('x')\n",
    "plt.ylabel('cos');"
   ]
  },
  {
   "cell_type": "markdown",
   "metadata": {},
   "source": [
    "### Zadanie\n",
    "Dodaj do powyższego wykresu: tytuł, opisy osi, legendy i zmień typ linii."
   ]
  },
  {
   "cell_type": "markdown",
   "metadata": {},
   "source": [
    "Dostępne są inne typy wykresów jak wykres punktowy"
   ]
  },
  {
   "cell_type": "code",
   "execution_count": null,
   "metadata": {},
   "outputs": [],
   "source": [
    "x = np.random.rand(100)\n",
    "y = np.random.rand(100)\n",
    "kolor = np.ones(100)\n",
    "kolor[y > 0.3] = 2 \n",
    "kolor[y > 0.6] = 3\n",
    "plt.scatter(x, y, c=kolor);"
   ]
  },
  {
   "cell_type": "markdown",
   "metadata": {},
   "source": [
    "Możliwe jest rysowanie histogramów."
   ]
  },
  {
   "cell_type": "code",
   "execution_count": null,
   "metadata": {},
   "outputs": [],
   "source": [
    "v = np.random.normal(size=1000)\n",
    "plt.hist(v, bins=50);\n",
    "plt.savefig('draw.svg')"
   ]
  },
  {
   "cell_type": "markdown",
   "metadata": {},
   "source": [
    "Zapisz wybrany wykres do pliku."
   ]
  }
 ],
 "metadata": {
  "kernelspec": {
   "display_name": "Python 3 (ipykernel)",
   "language": "python",
   "name": "python3"
  },
  "language_info": {
   "codemirror_mode": {
    "name": "ipython",
    "version": 3
   },
   "file_extension": ".py",
   "mimetype": "text/x-python",
   "name": "python",
   "nbconvert_exporter": "python",
   "pygments_lexer": "ipython3",
   "version": "3.11.7"
  }
 },
 "nbformat": 4,
 "nbformat_minor": 4
}

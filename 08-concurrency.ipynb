{
 "cells": [
  {
   "cell_type": "markdown",
   "metadata": {
    "slideshow": {
     "slide_type": "slide"
    }
   },
   "source": [
    "# Współbieżność i równoległość"
   ]
  },
  {
   "cell_type": "markdown",
   "metadata": {},
   "source": [
    "> Concurrency is about dealing with lots of things at once.\n",
    ">\n",
    "> Parallelism is about doing lots of things at once.\n",
    ">\n",
    "> — Rob Pike"
   ]
  },
  {
   "cell_type": "markdown",
   "metadata": {
    "slideshow": {
     "slide_type": "subslide"
    }
   },
   "source": [
    "Podstawowe pakiety w Python związane z współbieżnością i zrównoleglaniem zadań:\n",
    "- pakiety `threading` lub `asyncio` są przydatne, kiedy w programie są operacje blokujące\n",
    "- pakiet `multiprocessing` pozwala na wydajniejsze wykorzystanie CPU poprzez uruchamianie wielu procesów"
   ]
  },
  {
   "cell_type": "markdown",
   "metadata": {},
   "source": [
    "Zysk z współbieżności w Python zależy od implementacji. CPython posiada zaimplementowany tzw. GIL (Global Intepreter Lock), który blokuje równoległe wykonanie wątków (poza operacjami typu oczekiwanie na dane), ale dzięki temu zabezpiecza przed błędami synchronizacji.\n",
    "\n",
    "Najlepiej korzystać z dedykowanych bibliotek w przypadku obliczeń."
   ]
  },
  {
   "cell_type": "markdown",
   "metadata": {
    "slideshow": {
     "slide_type": "slide"
    }
   },
   "source": [
    "## Wykonanie sekwencyjne"
   ]
  },
  {
   "cell_type": "code",
   "execution_count": null,
   "metadata": {},
   "outputs": [],
   "source": [
    "from datetime import datetime\n",
    "import time\n",
    "\n",
    "# zadanie task_id o złożoności n\n",
    "def task(task_id, n):\n",
    "    print(f'→ task {task_id} ', datetime.now().time())\n",
    "    for x in range(1, n):\n",
    "        for y in range(1, n):\n",
    "            x**y\n",
    "    # operacja blokująca\n",
    "    # time.sleep(task_id)\n",
    "    print(f'← task {task_id} ', datetime.now().time())\n",
    "\n",
    "\n",
    "# sekwencyjne wykonanie zadań\n",
    "def sequential(tasks):\n",
    "    for i in range(tasks):    \n",
    "        task(i, 750)\n",
    "\n",
    "    \n",
    "start = datetime.now()\n",
    "sequential(5)\n",
    "end = datetime.now()\n",
    "print(\"total: \", end - start)"
   ]
  },
  {
   "cell_type": "markdown",
   "metadata": {
    "slideshow": {
     "slide_type": "slide"
    }
   },
   "source": [
    "## Wykonanie współbieżne"
   ]
  },
  {
   "cell_type": "code",
   "execution_count": null,
   "metadata": {},
   "outputs": [],
   "source": [
    "from datetime import datetime\n",
    "import time\n",
    "import threading\n",
    "\n",
    "# zadanie task_id o złożoności n\n",
    "def task(task_id, n):\n",
    "    print(f'→ task {task_id} ', datetime.now().time())\n",
    "    for x in range(1, n):\n",
    "        for y in range(1, n):\n",
    "            x**y\n",
    "    # operacja blokująca\n",
    "    # time.sleep(task_id)\n",
    "    print(f'← task {task_id} ', datetime.now().time())\n",
    "    \n",
    "\n",
    "# współbieżne wykonanie zadań\n",
    "def concurrent(tasks):\n",
    "    threads = []\n",
    "\n",
    "    for i in range(tasks):\n",
    "        # utworzenie, dodanie do listy i uruchomienie wątku\n",
    "        t = threading.Thread(target=task, args=(i, 750))\n",
    "        threads.append(t)\n",
    "        t.start()\n",
    "\n",
    "    # oczekiwanie na zakończenie wszystkich wątków\n",
    "    [ t.join() for t in threads ]\n",
    "\n",
    "    \n",
    "start = datetime.now()\n",
    "concurrent(5)\n",
    "end = datetime.now()\n",
    "print(\"total: \", end - start)"
   ]
  },
  {
   "cell_type": "markdown",
   "metadata": {},
   "source": [
    "## Wykonanie równoległe"
   ]
  },
  {
   "cell_type": "code",
   "execution_count": null,
   "metadata": {},
   "outputs": [],
   "source": [
    "from datetime import datetime\n",
    "import time\n",
    "import multiprocessing\n",
    "\n",
    "# zadanie task_id o złożoności n\n",
    "def task(task_id, n):\n",
    "    print(f'→ task {task_id} ', datetime.now().time())\n",
    "    for x in range(1, n):\n",
    "        for y in range(1, n):\n",
    "            x**y\n",
    "    # operacja blokująca\n",
    "    # time.sleep(task_id)\n",
    "    print(f'← task {task_id} ', datetime.now().time())\n",
    "    \n",
    "\n",
    "# równoległe wykonanie zadań\n",
    "def parallel(tasks):\n",
    "    processes = []\n",
    "\n",
    "    for i in range(tasks):\n",
    "        # utworzenie, dodanie do listy i uruchomienie odrębnego procesu\n",
    "        p = multiprocessing.Process(target=task, args=(i, 750))\n",
    "        processes.append(p)\n",
    "        p.start()\n",
    "\n",
    "    # oczekiwanie na zakończenie wszystkich wątków\n",
    "    [ p.join() for p in processes ]\n",
    "\n",
    "    \n",
    "start = datetime.now()\n",
    "parallel(5)\n",
    "end = datetime.now()\n",
    "print(\"total: \", end - start)"
   ]
  },
  {
   "cell_type": "markdown",
   "metadata": {},
   "source": [
    "## Pule wątków i procesów"
   ]
  },
  {
   "cell_type": "markdown",
   "metadata": {},
   "source": [
    "Z punktu widzenia programisty aplikacja ma do wykonania pewne zadania, nie interesuje go ich zrównoleglanie od strony tworzenia wątków lub procesów.\n",
    "\n",
    "Pakiet `concurrent.futures` umożliwia tworzenie:\n",
    "- pul wątków\n",
    "- pul procesów\n",
    "\n",
    "Pula automatycznie zarządza wątkami/procesami przetwarzając przekazane zadania. Umożliwia również sprawdzenie ich stanu oraz pobranie wyniku.\n",
    "\n",
    "**Uwaga!** `ProcessPoolExecutor` może [nie działać w konsoli interaktywnej](https://docs.python.org/3/library/concurrent.futures.html#concurrent.futures.ProcessPoolExecutor)."
   ]
  },
  {
   "cell_type": "code",
   "execution_count": null,
   "metadata": {},
   "outputs": [],
   "source": [
    "from datetime import datetime\n",
    "import time\n",
    "from concurrent.futures import ThreadPoolExecutor, ProcessPoolExecutor, wait\n",
    "\n",
    "# zadanie task_id o złożoności n\n",
    "def task(task_id, n):\n",
    "    print(f'→ task {task_id} ', datetime.now().time())\n",
    "    for x in range(1, n):\n",
    "        for y in range(1, n):\n",
    "            x**y\n",
    "    # operacja blokująca\n",
    "    # time.sleep(task_id)\n",
    "    print(f'← task {task_id} ', datetime.now().time())\n",
    "    return (task_id, n)\n",
    "    \n",
    "\n",
    "# wykonanie zadań przez wykonawcę\n",
    "def executor(tasks):\n",
    "    # brak parametru utworzy optymalną liczbę procesów w puli\n",
    "    pool = ProcessPoolExecutor(2)\n",
    "    futures = []\n",
    "\n",
    "    for i in range(tasks):\n",
    "        # utworzenie, dodanie do listy i dodanie zadania do puli procesów\n",
    "        f = pool.submit(task, i, 750)\n",
    "        futures.append(f)\n",
    "        \n",
    "    # czy zadania są już zakończone\n",
    "    [ print(f.done()) for f in futures ]\n",
    "    \n",
    "    # oczekiwanie na zakończenie wszystkich zadań\n",
    "    wait(futures)\n",
    "    \n",
    "    # pobranie wyników\n",
    "    [ print(f.result()) for f in futures ]\n",
    "    \n",
    "    # pula nadal istnieje i może być używana\n",
    "\n",
    "    \n",
    "start = datetime.now()\n",
    "executor(5)\n",
    "end = datetime.now()\n",
    "print(\"total: \", end - start)"
   ]
  },
  {
   "cell_type": "markdown",
   "metadata": {},
   "source": [
    "Współbieżność nie jest uniwersalną metodą przyspieszania obliczeń i nie zawsze przynosi zysk.\n",
    "\n",
    "Warto rozważyć inne techniki:\n",
    "- optymalizacja kodu poprzez redukcję powtarzalnych operacji lub ich wyeliminowanie jeśli są zbędne\n",
    "- reużywanie obiektów, przechowywanie wyników obliczeń\n",
    "- wykorzystanie dedykowanych bibliotek lub innych implementacji Pythona, takich jak `PyPy` lub `Cython`"
   ]
  },
  {
   "cell_type": "markdown",
   "metadata": {},
   "source": [
    "## Synchronizacja"
   ]
  },
  {
   "cell_type": "markdown",
   "metadata": {},
   "source": [
    "Dostęp do współdzielonych danych powinien być synchronizowany, choć niektóre z implementacji Pythona będą działać \"poprawnie\". Podczas wykonania może dojść do wyścigu, którego efektem mogą być niedeterministyczne lub nieoczekiwane wyniki."
   ]
  },
  {
   "cell_type": "code",
   "execution_count": null,
   "metadata": {},
   "outputs": [],
   "source": [
    "import time\n",
    "import threading\n",
    "\n",
    "z = 0\n",
    "\n",
    "# zadanie 1\n",
    "def task_1():\n",
    "    global x, y, z\n",
    "    x = 1\n",
    "    time.sleep(0)\n",
    "    y = 1\n",
    "    time.sleep(0)\n",
    "    z += 1\n",
    "\n",
    "\n",
    "# zadanie 2\n",
    "def task_2():\n",
    "    global x, y, z\n",
    "    y = 2\n",
    "    time.sleep(0)\n",
    "    x = 2\n",
    "    time.sleep(0)\n",
    "    z += 1\n",
    "    \n",
    "\n",
    "threads = []\n",
    "threads.append(threading.Thread(target=task_1))\n",
    "threads.append(threading.Thread(target=task_2))\n",
    "\n",
    "[ t.start() for t in threads ]\n",
    "\n",
    "[ t.join() for t in threads ]\n",
    "\n",
    "print(f'final values: x={x} y={y} z={z}')"
   ]
  },
  {
   "cell_type": "markdown",
   "metadata": {},
   "source": [
    "Ręczna synchronizacja jest trudna i często prowadzi do problemów ze współdzieleniem danych takich jak np. zakleszczenia."
   ]
  },
  {
   "cell_type": "code",
   "execution_count": null,
   "metadata": {},
   "outputs": [],
   "source": [
    "import time\n",
    "import threading\n",
    "\n",
    "lock_x = threading.Lock()\n",
    "lock_y = threading.Lock()\n",
    "\n",
    "# zadanie 1\n",
    "def task_1():\n",
    "    global x, y\n",
    "    print('1: lock_x acquire')\n",
    "    lock_x.acquire()\n",
    "    print('1: lock_x acquired')\n",
    "    time.sleep(0)\n",
    "    x = 1\n",
    "    print('1: lock_y acquire')\n",
    "    lock_y.acquire()\n",
    "    print('1: lock_y acquired')\n",
    "    time.sleep(0)\n",
    "    y = 1\n",
    "    print('1: lock_y release')\n",
    "    lock_y.release()\n",
    "    print('1: lock_y released')\n",
    "    print('1: lock_x release')\n",
    "    lock_x.release()\n",
    "    print('1: lock_x released')\n",
    "    \n",
    "\n",
    "# zadanie 2\n",
    "def task_2():\n",
    "    global x, y\n",
    "    print('2: lock_y acquire')\n",
    "    lock_y.acquire()\n",
    "    print('2: lock_y acquired')\n",
    "    time.sleep(0)\n",
    "    y = 2\n",
    "    print('2: lock_x acquire')\n",
    "    lock_x.acquire()\n",
    "    print('2: lock_x acquired')\n",
    "    time.sleep(0)\n",
    "    x = 2\n",
    "    print('2: lock_x release')\n",
    "    lock_x.release()\n",
    "    print('2: lock_x released')\n",
    "    print('2: lock_y release')\n",
    "    lock_y.release()\n",
    "    print('2: lock_y released')\n",
    "    \n",
    "\n",
    "threads = []\n",
    "threads.append(threading.Thread(target=task_1))\n",
    "threads.append(threading.Thread(target=task_2))\n",
    "\n",
    "[ t.start() for t in threads ]\n",
    "\n",
    "[ t.join() for t in threads ]\n",
    "\n",
    "print(f'final values: x={x} y={y}')"
   ]
  },
  {
   "cell_type": "markdown",
   "metadata": {},
   "source": [
    "## Dziel i zwyciężaj"
   ]
  },
  {
   "cell_type": "markdown",
   "metadata": {},
   "source": [
    "Dziel i zwyciężaj (*divide and conquer*) to metoda projektowania algorytmów polegająca na podziale problemu na mniejsze problemy do rozwiązania analogiczne do problemu początkowego."
   ]
  },
  {
   "cell_type": "code",
   "execution_count": null,
   "metadata": {},
   "outputs": [],
   "source": [
    "import random\n",
    "\n",
    "def find_max(data, left, right):\n",
    "    # warunek stop: lista jednoelementowa\n",
    "    if left == right:\n",
    "        return data[left]\n",
    "\n",
    "    # środek listy\n",
    "    mid = int((left + right) / 2)\n",
    "\n",
    "    # rozwiązanie problemu dla lewej części listy, wywołanie rekurencyjne\n",
    "    max_left = find_max(data, left, mid)\n",
    "    # rozwiązanie problemu dla prawej części listy, wywołanie rekurencyjne\n",
    "    max_right = find_max(data, mid + 1, right)\n",
    "\n",
    "    # zwracamy mniejszą z wartości\n",
    "    return max_left if max_left > max_right else max_right\n",
    "\n",
    "\n",
    "# lista losowych elementów z zakresu <1, n>\n",
    "n = 1_000_000_000\n",
    "data = random.sample(range(1, n + 1), n)\n",
    "# limit rekurencji można zawężać za pomocą sys.setrecursionlimit()\n",
    "print(f'max = {find_max(data, 0, len(data) - 1)}')"
   ]
  }
 ],
 "metadata": {
  "kernelspec": {
   "display_name": "Python 3 (ipykernel)",
   "language": "python",
   "name": "python3"
  },
  "language_info": {
   "codemirror_mode": {
    "name": "ipython",
    "version": 3
   },
   "file_extension": ".py",
   "mimetype": "text/x-python",
   "name": "python",
   "nbconvert_exporter": "python",
   "pygments_lexer": "ipython3",
   "version": "3.11.7"
  }
 },
 "nbformat": 4,
 "nbformat_minor": 4
}

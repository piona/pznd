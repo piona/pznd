{
 "cells": [
  {
   "cell_type": "markdown",
   "metadata": {
    "slideshow": {
     "slide_type": "slide"
    }
   },
   "source": [
    "# Jupyter Notebook"
   ]
  },
  {
   "cell_type": "markdown",
   "metadata": {
    "slideshow": {
     "slide_type": "subslide"
    }
   },
   "source": [
    "[Jupyter Notebook](http://jupyter.org/) to narzędzie pozwalające na interaktywną pracę z wieloma językami programowania np. z Python, Julia lub R. Wtyczki obsługujące wybrane języki i inne narzędzia nazywane są [kernelami](https://github.com/jupyter/jupyter/wiki/Jupyter-kernels). Jupyter Notebook jest częścią większego środowiska [JupyterLab](http://jupyter.org/)."
   ]
  },
  {
   "cell_type": "markdown",
   "metadata": {
    "slideshow": {
     "slide_type": "fragment"
    }
   },
   "source": [
    "Notatnik podzielony jest na komórki pomiędzy którymi można się poruszać za pomocą klawiszy strzałek góra/dół. \n",
    "\n",
    "Notatnik działa w dwóch trybach:\n",
    "- edycji (po wciśnięciu `Enter`, zielona ramka komórki),\n",
    "- wydawania komend (po wciśnięciu `Esc`, niebieska ramka wokół komórki).\n",
    "\n",
    "Skróty klawiszowe dostępne są w trybie wydawania komend po wciśnięciu `h`. Korzystanie ze skrótów znacząco przyspiesza pracę."
   ]
  },
  {
   "cell_type": "markdown",
   "metadata": {
    "slideshow": {
     "slide_type": "subslide"
    }
   },
   "source": [
    "Komórki mają różne formaty np. mogą zawierać tekst lub kod źródłowy. Można go zmieniać za pomocą górnego paska (`Markdown`, `Code`), używając menu (`Cell` → `Cell Type`) lub skrótów klawiaturowych np. `m` lub `y`."
   ]
  },
  {
   "cell_type": "markdown",
   "metadata": {
    "slideshow": {
     "slide_type": "subslide"
    }
   },
   "source": [
    "Komórki można uruchamiać, efekt będzie zależny od typu komórki (kod zostanie uruchomiony, tekst zostanie sformatowany)\n",
    "- `Ctrl + Enter` - wykonuje komórkę\n",
    "- `Shift + Enter` - wykonuje komórkę i przechodzi do następnej\n",
    "- `Alt + Enter` - wykonuje komórkę i tworzy nową poniżej\n"
   ]
  },
  {
   "cell_type": "markdown",
   "metadata": {
    "slideshow": {
     "slide_type": "slide"
    }
   },
   "source": [
    "## Markdown\n",
    "\n",
    "Komórki z opisami można edytować używając [języka znaczników **Markdown**](https://en.wikipedia.org/wiki/Markdown).\n",
    "\n",
    "![Logo Markdown](https://upload.wikimedia.org/wikipedia/commons/thumb/4/48/Markdown-mark.svg/320px-Markdown-mark.svg.png)"
   ]
  },
  {
   "cell_type": "markdown",
   "metadata": {
    "slideshow": {
     "slide_type": "subslide"
    }
   },
   "source": [
    "### Formatowanie tekstu\n",
    "\n",
    "Tekst może być:\n",
    "* *pochyły*, _pochyły_\n",
    "* **pogrubiony**, __pogrubiony__\n",
    "* ~skreślony~\n",
    "* `o stałej szerokości`\n",
    "\n",
    "Można stosować również wyliczenia:\n",
    "1. Punkt pierwszy\n",
    "1. Punkt drugi\n",
    "\n",
    "Cytowanie\n",
    "> To jest cytat\n",
    "\n",
    "Kod źródłowy\n",
    "\n",
    "```python\n",
    "# kawałek kodu w Python\n",
    "print(\"Big Data\".upper())\n",
    "```"
   ]
  },
  {
   "cell_type": "markdown",
   "metadata": {
    "slideshow": {
     "slide_type": "subslide"
    }
   },
   "source": [
    "#### Matematyka\n",
    "\n",
    "Możliwe jest użycie znaczników $\\LaTeX$ zarówno w tekście $\\sqrt{2} = 1.41\\ldots$ jak i jako odrębne wzory\n",
    "\n",
    "$$x = \\frac{-b \\pm \\sqrt{b^2 - 4ac}}{2a}$$\n",
    "\n",
    "$$\\sum_{k=1}^\\infty \\frac{(-1)^k}{2k-1} = 1 - \\tfrac{1}{3} + \\tfrac{1}{5} + \\ldots = \\frac{\\pi}{4} $$"
   ]
  },
  {
   "cell_type": "markdown",
   "metadata": {
    "slideshow": {
     "slide_type": "subslide"
    }
   },
   "source": [
    "### Tabele"
   ]
  },
  {
   "cell_type": "markdown",
   "metadata": {
    "slideshow": {
     "slide_type": "fragment"
    }
   },
   "source": [
    "| Godzina     | Temperatura |\n",
    "| ----------- | ----------- |\n",
    "| 1:00        | -12,4       |\n",
    "| 2:00        | -13,2       |\n",
    "| 3:00        | -13,8       |\n",
    "| 4:00        | -14,1       |\n",
    "| 5:00        | -13,0       |\n",
    "| 6:00        | -10,1       |\n",
    "| 7:00        | -6,4        |\n",
    "| 8:00        | -2,4        |"
   ]
  },
  {
   "cell_type": "markdown",
   "metadata": {
    "slideshow": {
     "slide_type": "subslide"
    }
   },
   "source": [
    "Więcej informacji o składni Markdown pod adresem https://www.markdownguide.org/basic-syntax/."
   ]
  },
  {
   "cell_type": "markdown",
   "metadata": {
    "slideshow": {
     "slide_type": "slide"
    }
   },
   "source": [
    "## Kod źródłowy\n",
    "\n",
    "W komórkach z kodem można m.in. zapisywać kod w języku Python oraz wykonywać polecenia powłoki. Kolejność wykonania komórek ma znaczenie, ponieważ kernel `ipython` (silnik notatnika) zapamiętuje kontekst wykonania aż do momentu w którym nie zostanie zresetowany (menu `Kernel`)."
   ]
  },
  {
   "cell_type": "code",
   "execution_count": null,
   "metadata": {
    "slideshow": {
     "slide_type": "fragment"
    }
   },
   "outputs": [],
   "source": [
    "3 + 7"
   ]
  },
  {
   "cell_type": "code",
   "execution_count": null,
   "metadata": {
    "slideshow": {
     "slide_type": "fragment"
    }
   },
   "outputs": [],
   "source": [
    "_**2"
   ]
  },
  {
   "cell_type": "code",
   "execution_count": null,
   "metadata": {
    "slideshow": {
     "slide_type": "fragment"
    }
   },
   "outputs": [],
   "source": [
    "print('Big Data'.upper())"
   ]
  },
  {
   "cell_type": "code",
   "execution_count": null,
   "metadata": {
    "slideshow": {
     "slide_type": "fragment"
    }
   },
   "outputs": [],
   "source": [
    "!dir"
   ]
  },
  {
   "cell_type": "code",
   "execution_count": null,
   "metadata": {},
   "outputs": [],
   "source": [
    "1 + 2\n",
    "2 + 3 # z komórki drukowana jest domyślnie wartość ostatniego wyrażenia"
   ]
  },
  {
   "cell_type": "code",
   "execution_count": null,
   "metadata": {},
   "outputs": [],
   "source": [
    "# można to zmienić rekonfigurując powłokę IPython (na stałe w pliku $HOME/.ipython)\n",
    "import IPython\n",
    "IPython.InteractiveShell.ast_node_interactivity='all'"
   ]
  },
  {
   "cell_type": "code",
   "execution_count": null,
   "metadata": {},
   "outputs": [],
   "source": [
    "# zamiast domyślnego drukowania wartości można użyć funkcji print\n",
    "print(1 + 2)\n",
    "print(2 + 3)"
   ]
  },
  {
   "cell_type": "markdown",
   "metadata": {
    "slideshow": {
     "slide_type": "slide"
    }
   },
   "source": [
    "## Inne możliwości"
   ]
  },
  {
   "cell_type": "markdown",
   "metadata": {
    "slideshow": {
     "slide_type": "subslide"
    }
   },
   "source": [
    "Użycie modułu `display` z pakietu `IPython` zwiększa możliwości notatnika."
   ]
  },
  {
   "cell_type": "code",
   "execution_count": null,
   "metadata": {
    "slideshow": {
     "slide_type": "fragment"
    }
   },
   "outputs": [],
   "source": [
    "from IPython import display"
   ]
  },
  {
   "cell_type": "code",
   "execution_count": null,
   "metadata": {
    "slideshow": {
     "slide_type": "subslide"
    }
   },
   "outputs": [],
   "source": [
    "display.Image(url='http://imgs.xkcd.com/comics/python.png')"
   ]
  },
  {
   "cell_type": "code",
   "execution_count": null,
   "metadata": {
    "slideshow": {
     "slide_type": "subslide"
    }
   },
   "outputs": [],
   "source": [
    "display.YouTubeVideo('i6G6dmVJy74')"
   ]
  },
  {
   "cell_type": "code",
   "execution_count": null,
   "metadata": {
    "slideshow": {
     "slide_type": "subslide"
    }
   },
   "outputs": [],
   "source": [
    "display.HTML(r'To jest <i>kod</i> <code>html</code> w <b>jupyter</b>!')"
   ]
  },
  {
   "cell_type": "code",
   "execution_count": null,
   "metadata": {
    "slideshow": {
     "slide_type": "subslide"
    }
   },
   "outputs": [],
   "source": [
    "display.Javascript(r\"alert('Pozdrowienia z notatnika!')\")"
   ]
  },
  {
   "cell_type": "code",
   "execution_count": null,
   "metadata": {
    "slideshow": {
     "slide_type": "subslide"
    }
   },
   "outputs": [],
   "source": [
    "display.Latex(r'$x = \\frac{-b \\pm \\sqrt{b^2 - 4ac}}{2a}$')"
   ]
  },
  {
   "cell_type": "markdown",
   "metadata": {
    "slideshow": {
     "slide_type": "subslide"
    }
   },
   "source": [
    "Możliwy jest import konkretnych funkcji."
   ]
  },
  {
   "cell_type": "code",
   "execution_count": null,
   "metadata": {
    "slideshow": {
     "slide_type": "fragment"
    }
   },
   "outputs": [],
   "source": [
    "from IPython.display import HTML, SVG"
   ]
  },
  {
   "cell_type": "code",
   "execution_count": null,
   "metadata": {
    "slideshow": {
     "slide_type": "fragment"
    }
   },
   "outputs": [],
   "source": [
    "HTML(r'To jest <i>kod</i> <code>HTML</code> w <b>jupyter</b>!')"
   ]
  },
  {
   "cell_type": "code",
   "execution_count": null,
   "metadata": {
    "slideshow": {
     "slide_type": "fragment"
    }
   },
   "outputs": [],
   "source": [
    "SVG('https://www.python.org/static/community_logos/python-logo-generic.svg')"
   ]
  },
  {
   "cell_type": "markdown",
   "metadata": {
    "slideshow": {
     "slide_type": "slide"
    }
   },
   "source": [
    "## Magia IPython"
   ]
  },
  {
   "cell_type": "markdown",
   "metadata": {
    "slideshow": {
     "slide_type": "fragment"
    }
   },
   "source": [
    "Komórki z `%` lub `%%` mają specjalne znaczenie obowiązujące w całym notatniku (*line magic*) lub w konkretnej komórce (*cell magic*)."
   ]
  },
  {
   "cell_type": "code",
   "execution_count": null,
   "metadata": {
    "slideshow": {
     "slide_type": "subslide"
    }
   },
   "outputs": [],
   "source": [
    "%lsmagic"
   ]
  },
  {
   "cell_type": "code",
   "execution_count": null,
   "metadata": {
    "slideshow": {
     "slide_type": "subslide"
    }
   },
   "outputs": [],
   "source": [
    "magic()"
   ]
  },
  {
   "cell_type": "code",
   "execution_count": null,
   "metadata": {
    "slideshow": {
     "slide_type": "subslide"
    }
   },
   "outputs": [],
   "source": [
    "%pwd"
   ]
  },
  {
   "cell_type": "code",
   "execution_count": null,
   "metadata": {
    "slideshow": {
     "slide_type": "subslide"
    }
   },
   "outputs": [],
   "source": [
    "%%latex\n",
    "$x = \\frac{-b \\pm \\sqrt{b^2 - 4ac}}{2a}$"
   ]
  },
  {
   "cell_type": "code",
   "execution_count": null,
   "metadata": {
    "slideshow": {
     "slide_type": "subslide"
    }
   },
   "outputs": [],
   "source": [
    "%%writefile magic.txt\n",
    "It's magic!"
   ]
  },
  {
   "cell_type": "markdown",
   "metadata": {
    "slideshow": {
     "slide_type": "subslide"
    }
   },
   "source": [
    "### Wykresy\n",
    "\n",
    "Poprawne działanie poniższych komórek wymaga instalacji pakietów `numpy`, `matplotlib` i `ipympl`."
   ]
  },
  {
   "cell_type": "code",
   "execution_count": null,
   "metadata": {
    "slideshow": {
     "slide_type": "subslide"
    }
   },
   "outputs": [],
   "source": [
    "# wykresy pojawią się w notatniku\n",
    "%matplotlib inline"
   ]
  },
  {
   "cell_type": "code",
   "execution_count": null,
   "metadata": {
    "slideshow": {
     "slide_type": "fragment"
    }
   },
   "outputs": [],
   "source": [
    "import numpy as np\n",
    "import matplotlib.pyplot as plt"
   ]
  },
  {
   "cell_type": "code",
   "execution_count": null,
   "metadata": {
    "slideshow": {
     "slide_type": "fragment"
    }
   },
   "outputs": [],
   "source": [
    "x = np.linspace(-5, 5, 100) # 100 wartości rozłożonych liniowo od -5 do 5\n",
    "y = np.sin(x)               # sinus dla wartości x\n",
    "plt.plot(x, y)"
   ]
  },
  {
   "cell_type": "markdown",
   "metadata": {
    "slideshow": {
     "slide_type": "subslide"
    }
   },
   "source": [
    "#### Interaktywne wykresy"
   ]
  },
  {
   "cell_type": "code",
   "execution_count": null,
   "metadata": {
    "slideshow": {
     "slide_type": "subslide"
    }
   },
   "outputs": [],
   "source": [
    "%matplotlib widget\n",
    "import numpy as np\n",
    "import matplotlib.pyplot as plt\n",
    "from ipywidgets import interact\n",
    "\n",
    "x = np.linspace(-2 * np.pi, 2 * np.pi, 100)\n",
    "fig, ax = plt.subplots()\n",
    "line, = ax.plot(x, np.sin(x))\n",
    "ax.grid(True)\n",
    "\n",
    "def update(w = 1.0):\n",
    "    line.set_ydata(np.sin(w * x))\n",
    "    fig.canvas.draw_idle()\n",
    "\n",
    "interact(update);"
   ]
  },
  {
   "cell_type": "markdown",
   "metadata": {
    "slideshow": {
     "slide_type": "subslide"
    }
   },
   "source": [
    "### Czas wykonania"
   ]
  },
  {
   "cell_type": "code",
   "execution_count": null,
   "metadata": {
    "slideshow": {
     "slide_type": "subslide"
    }
   },
   "outputs": [],
   "source": [
    "%%timeit\n",
    "'-'.join(str(n) for n in range(10))"
   ]
  },
  {
   "cell_type": "code",
   "execution_count": null,
   "metadata": {
    "slideshow": {
     "slide_type": "subslide"
    }
   },
   "outputs": [],
   "source": [
    "%%timeit -r 3 -n 100 # liczba powtórzeń w każej iteracji i ogólna liczba powtórzeń\n",
    "'-'.join(str(n) for n in range(100))"
   ]
  },
  {
   "cell_type": "markdown",
   "metadata": {
    "slideshow": {
     "slide_type": "slide"
    }
   },
   "source": [
    "## Pomoc"
   ]
  },
  {
   "cell_type": "code",
   "execution_count": null,
   "metadata": {
    "scrolled": true,
    "slideshow": {
     "slide_type": "fragment"
    }
   },
   "outputs": [],
   "source": [
    "help(print)"
   ]
  },
  {
   "cell_type": "code",
   "execution_count": null,
   "metadata": {
    "slideshow": {
     "slide_type": "fragment"
    }
   },
   "outputs": [],
   "source": [
    "timeit?"
   ]
  },
  {
   "cell_type": "code",
   "execution_count": null,
   "metadata": {
    "slideshow": {
     "slide_type": "fragment"
    }
   },
   "outputs": [],
   "source": [
    "# w trakcie edycji można używać Shift + Tab (pomoc) i Tab (podpowiedzi)\n",
    "# użyj Tab aby uzyskać print, następnie Shift + Tab aby uzyskać pomoc i Tab aby uzupełnić nazwę parametru 'flu'\n",
    "pr"
   ]
  },
  {
   "cell_type": "markdown",
   "metadata": {
    "slideshow": {
     "slide_type": "slide"
    }
   },
   "source": [
    "## Eksport notatnika"
   ]
  },
  {
   "cell_type": "markdown",
   "metadata": {
    "slideshow": {
     "slide_type": "fragment"
    }
   },
   "source": [
    "Notatnik można zapisać w różnych formatach (`File` → `Download as` lub `File` → `Save and Export Notebook As...`).\n",
    "\n",
    "Aby utworzyć prezentację z zawartości notatnika:\n",
    "- w menu `View` → `Cell Toolbar` należy zmienić widok na `Slideshow`\n",
    "- po ustawieniu zależności między komórkami można zapisać je jako prezentację `File` → `Download as` → `Reveal.js slides`"
   ]
  }
 ],
 "metadata": {
  "kernelspec": {
   "display_name": "Python 3 (ipykernel)",
   "language": "python",
   "name": "python3"
  },
  "language_info": {
   "codemirror_mode": {
    "name": "ipython",
    "version": 3
   },
   "file_extension": ".py",
   "mimetype": "text/x-python",
   "name": "python",
   "nbconvert_exporter": "python",
   "pygments_lexer": "ipython3",
   "version": "3.11.7"
  }
 },
 "nbformat": 4,
 "nbformat_minor": 4
}

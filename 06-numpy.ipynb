{
 "cells": [
  {
   "cell_type": "markdown",
   "metadata": {},
   "source": [
    "## NumPy\n",
    "\n",
    "NumPy to podstawowy pakiet do obliczeń naukowych w Pythonie. Zawiera między innymi:\n",
    "- wydajny n-wymiarowy obiekt tablicy\n",
    "- funkcje upraszczające operacje na tablicach\n",
    "- narzędzia do integracji z C/C ++ i Fortran\n",
    "- operacje algebry liniowej, transformatę Fouriera i generator liczb losowych"
   ]
  },
  {
   "cell_type": "code",
   "execution_count": null,
   "metadata": {},
   "outputs": [],
   "source": [
    "import numpy as np"
   ]
  },
  {
   "cell_type": "markdown",
   "metadata": {},
   "source": [
    "### Tablica\n",
    "\n",
    "Podstawowym obiektem w NumPy jest tablica `ndarray`. Tablicę można stworzyć z kolekcji za pomocą funkcji `ndarray` lub jej aliasu `array`."
   ]
  },
  {
   "cell_type": "code",
   "execution_count": null,
   "metadata": {},
   "outputs": [],
   "source": [
    "narr1 = np.array([1,2,3])\n",
    "print(f'narr1 = {narr1}')\n",
    "narr2 = np.array([[1,2],[3,4],[5,5]])\n",
    "print(f'narr2 =\\n{narr2}')"
   ]
  },
  {
   "cell_type": "code",
   "execution_count": null,
   "metadata": {},
   "outputs": [],
   "source": [
    "for n in [narr1, narr2]:\n",
    "    print(n)\n",
    "    print(f'\\tndim = {n.ndim}')\n",
    "    print(f'\\tshape = {n.shape}')\n",
    "    print(f'\\tsize = {n.size}')\n",
    "    print(f'\\tdtype = {n.dtype}')\n",
    "    print(f'\\titemsize = {n.itemsize}')\n",
    "    print(f'\\tdata = {n.data}')"
   ]
  },
  {
   "cell_type": "markdown",
   "metadata": {},
   "source": [
    "W przeciwieństwie do kolekcji, tablice mogą mieć tylko jeden typ elementu."
   ]
  },
  {
   "cell_type": "code",
   "execution_count": null,
   "metadata": {},
   "outputs": [],
   "source": [
    "for val in [1, 1., 1j]:\n",
    "    arr = np.array([val])\n",
    "    print(f'tablica: {arr}, typ: {arr.dtype}')\n",
    "# można wymusić typ przy tworzeniu tablicy\n",
    "arr = np.array([123, 1], dtype=str)\n",
    "print(f'tablica: {arr}, typ: {arr.dtype}')"
   ]
  },
  {
   "cell_type": "markdown",
   "metadata": {},
   "source": [
    "Ogólne metody tworzenia tablic o specyficznych właściwościach."
   ]
  },
  {
   "cell_type": "code",
   "execution_count": null,
   "metadata": {},
   "outputs": [],
   "source": [
    "print(f'arange\\n{np.arange(1,10)}')\n",
    "print(f'zeros\\n{np.zeros((2,3))}')\n",
    "print(f'ones\\n{np.ones((3,2))}')\n",
    "print(f'empty\\n{np.empty((2,7))}') # bez inicjalizacji\n",
    "print(f'random\\n{np.random.rand(2,2)}')\n",
    "print(f'diag\\n{np.diag([1, 2, 3, 4, 5])}')"
   ]
  },
  {
   "cell_type": "markdown",
   "metadata": {},
   "source": [
    "Pobieranie wartości z tablic."
   ]
  },
  {
   "cell_type": "code",
   "execution_count": null,
   "metadata": {},
   "outputs": [],
   "source": [
    "print(narr1)\n",
    "print(narr2)\n",
    "# jak w kolekcjach\n",
    "print(f'narr1[1] = {narr1[1]}')\n",
    "print(f'narr2[1][1] = {narr2[1][1]}')\n",
    "# lub krócej\n",
    "print(f'narr2[1,1] = {narr2[1,1]}')\n",
    "# przecięcia podobnie w kolekcjach\n",
    "print(f'narr2[1,:] = {narr2[1,:]}')\n",
    "print(f'narr2[:,1] = {narr2[:,1]}')\n",
    "print(f'narr2[1,:1] = {narr2[1,:1]}')"
   ]
  },
  {
   "cell_type": "markdown",
   "metadata": {},
   "source": [
    "Operacje w tablicach wykonywane są na poszczególnych elementach, np. jak pomnożymy dwie tablice pomnożone zostaną tylko elementy na tych samych pozycjach przez siebie."
   ]
  },
  {
   "cell_type": "code",
   "execution_count": null,
   "metadata": {},
   "outputs": [],
   "source": [
    "a = np.random.randint(10,size=(2,3))\n",
    "print(f'a =\\n{a}')\n",
    "print(f'a+2 =\\n{a+2}')\n",
    "print(f'a**2 =\\n{a**2}')\n",
    "print(f'a*a =\\n{a*a}')"
   ]
  },
  {
   "cell_type": "markdown",
   "metadata": {},
   "source": [
    "### Macierze\n",
    "\n",
    "Numpy ma również typ macierzy `matrix`. Jest on podobny do tablicy ale podstawowe operacje wykonywane są w sposób macierzowy a nie tablicowy."
   ]
  },
  {
   "cell_type": "code",
   "execution_count": null,
   "metadata": {},
   "outputs": [],
   "source": [
    "m1 = np.matrix([[1,2], [3,4]])\n",
    "m2 = np.matrix([[5,6], [7,8]])\n",
    "\n",
    "print(f'm1*m2 =\\n{format(m1*m2)}')\n",
    "print(f'm1**2 =\\n{format(m1**2)}')\n",
    "print(f'm1*2 =\\n{format(m1*2)}')"
   ]
  },
  {
   "cell_type": "markdown",
   "metadata": {},
   "source": [
    "Tablic można używać podobnie wykorzystując odpowiednie funkcje (np. `dot`)."
   ]
  },
  {
   "cell_type": "code",
   "execution_count": null,
   "metadata": {},
   "outputs": [],
   "source": [
    "a1 = np.array([[1,2], [3,4]])\n",
    "a2 = np.array([[5,6], [7,8]])\n",
    "\n",
    "print(f'a1.dot(a2) = \\n{format(a1.dot(a2))}')\n",
    "print(f'a1*a2 = \\n{format(a1*a2)}')\n",
    "print(f'a1**2 = \\n {format(a1**2)}')\n",
    "print(f'a1*2 = \\n{format(a1*2)}')"
   ]
  },
  {
   "cell_type": "markdown",
   "metadata": {},
   "source": [
    "Operacje algebry liniowej można wykonywać zarówno na tablicach jak i macierzach"
   ]
  },
  {
   "cell_type": "code",
   "execution_count": null,
   "metadata": {},
   "outputs": [],
   "source": [
    "print(f'det(m1) = {np.linalg.det(m1):.02f}')\n",
    "print(f'det(a1) = {np.linalg.det(a1):.02f}')"
   ]
  },
  {
   "cell_type": "markdown",
   "metadata": {},
   "source": [
    "## Zadanie\n",
    "Mamy liczbę trzycyfrową. Jeżeli od liczby dziesiątek odejmiemy liczbę jedności otrzymamy 6. Jeżeli do liczby dziesiątek dodamy liczbę jedności otrzymamy 10.\n",
    "\n",
    "* znajdź wszystkie liczby trzycyfrowe spełniające ten warunek\n",
    "* znajdź liczby trzycyfrowe podzielne przez 3\n",
    "\n",
    "[Podpowiedź](https://pl.wikipedia.org/wiki/Uk%C5%82ad_r%C3%B3wna%C5%84_liniowych):\n",
    "$$ Ax=B $$\n",
    "$$ x = A^{-1}B $$"
   ]
  }
 ],
 "metadata": {
  "kernelspec": {
   "display_name": "Python 3 (ipykernel)",
   "language": "python",
   "name": "python3"
  },
  "language_info": {
   "codemirror_mode": {
    "name": "ipython",
    "version": 3
   },
   "file_extension": ".py",
   "mimetype": "text/x-python",
   "name": "python",
   "nbconvert_exporter": "python",
   "pygments_lexer": "ipython3",
   "version": "3.11.7"
  }
 },
 "nbformat": 4,
 "nbformat_minor": 4
}

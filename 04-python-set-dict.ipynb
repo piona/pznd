{
 "cells": [
  {
   "cell_type": "markdown",
   "metadata": {},
   "source": [
    "# Python: zbiory i słowniki"
   ]
  },
  {
   "cell_type": "markdown",
   "metadata": {},
   "source": [
    "## Zbiór\n",
    "\n",
    "Zbiór jest typem reprezentującym kolekcję nieuporządkowaną, która:\n",
    "- zawiera unikalne wartości\n",
    "- jest tworzona za pomocą nawiasów klamrowych `{ elementy }` (wyłącznie z elementami) lub `set`\n",
    "- może przechowywać wyłącznie typy niemutowalne (nie da się utworzyć zbioru list lub zbioru zbiorów)\n",
    "- cechuje się szybkim wyszukiwaniem"
   ]
  },
  {
   "cell_type": "code",
   "execution_count": null,
   "metadata": {},
   "outputs": [],
   "source": [
    "empty_set = set()\n",
    "print(empty_set)"
   ]
  },
  {
   "cell_type": "code",
   "execution_count": null,
   "metadata": {},
   "outputs": [],
   "source": [
    "# utworzenie zbioru\n",
    "miscs = {'Python', 16, 3.14, True}\n",
    "print(len(miscs))"
   ]
  },
  {
   "cell_type": "code",
   "execution_count": null,
   "metadata": {},
   "outputs": [],
   "source": [
    "# dodanie elementu do zbioru\n",
    "miscs.add('Python')\n",
    "miscs.add(None)\n",
    "miscs.add(16)\n",
    "miscs |= {'Jupyter', 2.71} # lub miscs.update({'Jupyter', 2.71})\n",
    "print(miscs)"
   ]
  },
  {
   "cell_type": "code",
   "execution_count": null,
   "metadata": {},
   "outputs": [],
   "source": [
    "# wyciągnięcie i usunięcie elementu\n",
    "last = miscs.pop()\n",
    "print(last)\n",
    "print(miscs)"
   ]
  },
  {
   "cell_type": "code",
   "execution_count": null,
   "metadata": {},
   "outputs": [],
   "source": [
    "# usunięcie elementu\n",
    "miscs.remove('Python')\n",
    "print(miscs)"
   ]
  },
  {
   "cell_type": "code",
   "execution_count": null,
   "metadata": {},
   "outputs": [],
   "source": [
    "# operacje na zbiorach\n",
    "print({1, 2, 3} | {3, 4})\n",
    "print({1, 2, 3} - {3, 4})\n",
    "print({1, 2, 3} & {3, 4})\n",
    "print({1, 2, 3} ^ {3, 4})\n",
    "print({1, 2, 3} > {1, 2})\n",
    "print({1, 2, 3} <= {1, 2})\n",
    "print({1, 2, 3} != {1, 2})\n",
    "print({1, 2, 3} == {1, 2})"
   ]
  },
  {
   "cell_type": "markdown",
   "metadata": {},
   "source": [
    "Typ `frozenset` to niemutowalna wersja `set`."
   ]
  },
  {
   "cell_type": "code",
   "execution_count": null,
   "metadata": {},
   "outputs": [],
   "source": [
    "frozen_names = frozenset(['Anna', 'Celina', 'Jan'])\n",
    "print(frozen_names)"
   ]
  },
  {
   "cell_type": "markdown",
   "metadata": {},
   "source": [
    "## Słownik\n",
    "\n",
    "Słownik jest typem reprezentującym kolekcję, która:\n",
    "- przechowuje pary *klucz* - *wartość*\n",
    "- jest tworzony za pomocą nawiasów klamrowych `{}` lub `dict`\n",
    "- jest mutowalny, można zmieniać jego zawartość\n",
    "- cechuje się szybkim wyszukiwaniem według klucza (musi być niemutowalny)\n"
   ]
  },
  {
   "cell_type": "code",
   "execution_count": null,
   "metadata": {},
   "outputs": [],
   "source": [
    "empty_dict = dict()\n",
    "print(empty_dict)\n",
    "empty_dict = {}\n",
    "print(empty_dict)"
   ]
  },
  {
   "cell_type": "code",
   "execution_count": null,
   "metadata": {},
   "outputs": [],
   "source": [
    "# utworzenie słownika i dodanie elementu\n",
    "person = {'name': 'John', 'surname': 'Smith'}\n",
    "print(person)\n",
    "person['age'] = 30\n",
    "print(person)"
   ]
  },
  {
   "cell_type": "code",
   "execution_count": null,
   "metadata": {},
   "outputs": [],
   "source": [
    "# pobieranie wartości\n",
    "print(person.get('name'))\n",
    "print(person['surname'])"
   ]
  },
  {
   "cell_type": "code",
   "execution_count": null,
   "metadata": {},
   "outputs": [],
   "source": [
    "# klucze, wartości i pary\n",
    "print(person.keys())\n",
    "print(person.values())\n",
    "print(person.items())"
   ]
  },
  {
   "cell_type": "code",
   "execution_count": null,
   "metadata": {},
   "outputs": [],
   "source": [
    "# usuwanie wartości\n",
    "item = person.pop('age')\n",
    "print(item)\n",
    "print(person)\n",
    "del person['surname']\n",
    "print(person)"
   ]
  }
 ],
 "metadata": {
  "kernelspec": {
   "display_name": "Python 3 (ipykernel)",
   "language": "python",
   "name": "python3"
  },
  "language_info": {
   "codemirror_mode": {
    "name": "ipython",
    "version": 3
   },
   "file_extension": ".py",
   "mimetype": "text/x-python",
   "name": "python",
   "nbconvert_exporter": "python",
   "pygments_lexer": "ipython3",
   "version": "3.11.7"
  }
 },
 "nbformat": 4,
 "nbformat_minor": 4
}

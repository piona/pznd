{
 "cells": [
  {
   "cell_type": "markdown",
   "metadata": {},
   "source": [
    "# SciPy\n",
    "\n",
    "Biblioteka [SciPy](https://scipy.org/) zawiera implementację wielu algorytmów z dziedziny obliczeń numerycznych. Zbudowana jest z zastosowaniem biblioteki NumPy.\n",
    "\n",
    "W jej skład wchodzą między innymi pakiety do obliczeń statystycznych, przetwarzania sygnałów, grafiki czy optymalizacji."
   ]
  },
  {
   "cell_type": "markdown",
   "metadata": {},
   "source": [
    "### Przetwarzanie obrazów"
   ]
  },
  {
   "cell_type": "code",
   "execution_count": null,
   "metadata": {},
   "outputs": [],
   "source": [
    "%matplotlib inline\n",
    "import matplotlib.pyplot as plt\n",
    "import scipy\n",
    "\n",
    "# face = scipy.misc.face # starsze wersje SciPy\n",
    "face = scipy.datasets.face() # wbudowane zdjęcie (zostanie pobrane), może wymagać instalacji pakietu pooch i restartu notatników\n",
    "plt.imshow(face)\n",
    "plt.show()"
   ]
  },
  {
   "cell_type": "code",
   "execution_count": null,
   "metadata": {},
   "outputs": [],
   "source": [
    "from scipy import ndimage\n",
    "rotated = ndimage.rotate(face, 45)\n",
    "plt.imshow(rotated)\n",
    "plt.show()"
   ]
  },
  {
   "cell_type": "code",
   "execution_count": null,
   "metadata": {},
   "outputs": [],
   "source": [
    "uniform = ndimage.uniform_filter(face)\n",
    "plt.imshow(uniform)\n",
    "plt.show()"
   ]
  },
  {
   "cell_type": "markdown",
   "metadata": {},
   "source": [
    "### Algebra liniowa\n",
    "\n",
    "Suma cyfr pewnej liczby trzycyfrowej wynosi 18. Cyfra dziesiątek jest o 1 większa od cyfry jedności. Jeśli zamienimy miejscami cyfrę setek i dziesiątek, to otrzymamy liczbę o 180 większą od początkowej. Wyznacz liczbę początkową.\n",
    "\n",
    "$$\\left\\{\\begin{array}{rcl}\n",
    "x + y + z & = & 18\\\\\n",
    "y - z     & = & 1\\\\\n",
    "100x + 10y + z + 180 & = & 100y + 10x + z\n",
    "\\end{array} \\right.$$\n",
    "\n",
    "$$\\left\\{\\begin{array}{rcl}\n",
    "x + y + z & = & 18\\\\\n",
    "y - z     & = & 1\\\\\n",
    "90x - 90y & = & -180\n",
    "\\end{array} \\right.$$"
   ]
  },
  {
   "cell_type": "code",
   "execution_count": null,
   "metadata": {},
   "outputs": [],
   "source": [
    "from scipy import linalg\n",
    "import numpy as np\n",
    "\n",
    "# zapis macierzowy\n",
    "a = np.array([[1, 1, 1], [0, 1, -1], [90, -90, 0]])\n",
    "b = np.array([18, 1, -180])\n",
    "\n",
    "x = linalg.solve(a, b)\n",
    "\n",
    "print(x)"
   ]
  },
  {
   "cell_type": "markdown",
   "metadata": {},
   "source": [
    "### Kombinatoryka\n",
    "\n",
    "Ile haseł ośmioznakowych można utworzyć używając małych i wielkich liter oraz cyfr przy założeniu, że się nie powtarzają.\n"
   ]
  },
  {
   "cell_type": "code",
   "execution_count": null,
   "metadata": {},
   "outputs": [],
   "source": [
    "from scipy.special import perm\n",
    "res = perm(26 + 26 + 10, 8)\n",
    "print(res)"
   ]
  },
  {
   "cell_type": "markdown",
   "metadata": {},
   "source": [
    "### Optymalizacja\n",
    "\n",
    "Obliczenia numeryczne np. wyszukiwanie miejsc zerowych funkcji."
   ]
  },
  {
   "cell_type": "code",
   "execution_count": null,
   "metadata": {},
   "outputs": [],
   "source": [
    "from scipy.optimize import root\n",
    "import numpy as np\n",
    "\n",
    "def func(x):\n",
    "    return 2*x - 2\n",
    "\n",
    "\n",
    "sol = root(func, 0.1)\n",
    "print(sol)"
   ]
  },
  {
   "cell_type": "code",
   "execution_count": null,
   "metadata": {},
   "outputs": [],
   "source": [
    "# z wykorzystaniem wyrażenia lambda\n",
    "sol = root(lambda x: 2*x - 2, 0.1)\n",
    "print(sol)"
   ]
  },
  {
   "cell_type": "markdown",
   "metadata": {},
   "source": [
    "### Algorytmy grafowe\n",
    "\n",
    "Możliwe jest np. wyznaczanie najkrótszych ścieżek w grafie."
   ]
  },
  {
   "cell_type": "code",
   "execution_count": null,
   "metadata": {},
   "outputs": [],
   "source": [
    "from scipy.sparse.csgraph import shortest_path\n",
    "import numpy as np\n",
    "# macierz sąsiedztwa z odległościami\n",
    "graph = np.array([\n",
    "   [0, 100, 90],\n",
    "   [100, 0, 9],\n",
    "   [90, 9, 0]])\n",
    "print(graph)\n",
    "shortest_path(graph) # macierz z najkrótszymi odległościami"
   ]
  },
  {
   "cell_type": "markdown",
   "metadata": {},
   "source": [
    "## SymPy\n",
    "\n",
    "[SymPy](https://www.sympy.org) to biblioteką do obsługi obliczeń symbolicznych."
   ]
  },
  {
   "cell_type": "code",
   "execution_count": null,
   "metadata": {},
   "outputs": [],
   "source": [
    "from sympy import Symbol, factor\n",
    "x = Symbol('x')\n",
    "y = Symbol('y')\n",
    "print(y + x + x + 1 + x * x - y) # uproszczenie wyrażenia\n",
    "print(factor(x + x + 1 + x * x)) # zamiana na iloczyn\n",
    "print(factor(x * y + y * x + 1 + x ** 2 * y ** 2))"
   ]
  },
  {
   "cell_type": "code",
   "execution_count": null,
   "metadata": {},
   "outputs": [],
   "source": []
  }
 ],
 "metadata": {
  "kernelspec": {
   "display_name": "Python 3 (ipykernel)",
   "language": "python",
   "name": "python3"
  },
  "language_info": {
   "codemirror_mode": {
    "name": "ipython",
    "version": 3
   },
   "file_extension": ".py",
   "mimetype": "text/x-python",
   "name": "python",
   "nbconvert_exporter": "python",
   "pygments_lexer": "ipython3",
   "version": "3.11.7"
  }
 },
 "nbformat": 4,
 "nbformat_minor": 4
}

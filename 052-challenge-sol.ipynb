{
 "cells": [
  {
   "cell_type": "markdown",
   "metadata": {},
   "source": [
    "## Przykładowe rozwiązania\n",
    "\n",
    "1. Pobierz *Alice's Adventures in Wonderland* Lewis Carroll z [tego adresu](http://www.gutenberg.org/files/11/11-0.txt)\n",
    "1. Przeczytaj plik używając Pythona; zobacz [dokumentację](https://docs.python.org/3/tutorial/inputoutput.html)\n",
    "1. Zlicz wystąpienia liter w utworze (★ wykluczając nagłówek i stopkę w pliku)"
   ]
  },
  {
   "cell_type": "code",
   "execution_count": null,
   "metadata": {},
   "outputs": [],
   "source": [
    "# pobranie pliku z sieci\n",
    "!wget http://www.gutenberg.org/files/11/11-0.txt"
   ]
  },
  {
   "cell_type": "code",
   "execution_count": null,
   "metadata": {},
   "outputs": [],
   "source": [
    "# słownik do zliczania liter\n",
    "letters = dict()\n",
    "# analizujemy plik linia po linii\n",
    "with open(\"11-0.txt\") as file:\n",
    "    for line in file:\n",
    "        for char in line:\n",
    "            if not char.isalpha():\n",
    "                continue\n",
    "            char = char.upper()\n",
    "            if char in letters:\n",
    "                letters[char] += 1\n",
    "            else:\n",
    "                letters[char] = 1\n",
    "print(letters)"
   ]
  },
  {
   "cell_type": "code",
   "execution_count": null,
   "metadata": {},
   "outputs": [],
   "source": [
    "# analogiczne rozwiązanie wykorzystujące defaultdict\n",
    "from collections import defaultdict\n",
    "\n",
    "# domyślna wartość\n",
    "def default_value():\n",
    "    return 0\n",
    "\n",
    "\n",
    "# słownik do zliczania liter z domyślną wartością\n",
    "letters = defaultdict(default_value) # lub = defaultdict(lambda: 0)\n",
    "# analizujemy plik linia po linii\n",
    "with open(\"11-0.txt\") as file:\n",
    "    for line in file:\n",
    "        for char in line:\n",
    "            if not char.isalpha():\n",
    "                continue\n",
    "            char = char.upper()\n",
    "            # nie ma potrzeby sprawdzania czy litera jest już w słowniku\n",
    "            letters[char] += 1\n",
    "print(letters)"
   ]
  },
  {
   "cell_type": "code",
   "execution_count": null,
   "metadata": {},
   "outputs": [],
   "source": [
    "# słownik do zliczania liter\n",
    "letters = dict()\n",
    "# flaga wskazująca czy analizujemy tekst książki\n",
    "is_book = False\n",
    "# analizujemy plik linia po linii\n",
    "with open(\"11-0.txt\") as file:\n",
    "    for line in file:\n",
    "        # przełączenie flagi po napotkaniu znacznika nagłówka/końca książki\n",
    "        if line.startswith('*** '):\n",
    "            is_book = not is_book\n",
    "            continue\n",
    "        if not is_book:\n",
    "            continue\n",
    "        for char in line:\n",
    "            if not char.isalpha():\n",
    "                continue\n",
    "            char = char.upper()\n",
    "            if char in letters:\n",
    "                letters[char] += 1\n",
    "            else:\n",
    "                letters[char] = 1\n",
    "print(letters)"
   ]
  },
  {
   "cell_type": "markdown",
   "metadata": {},
   "source": [
    "1. Ile słów występuje w utworze\n",
    "1. Zlicz wystąpienia unikalnych słów (skorzystaj z pakietu `re` i metody `findall`)\n",
    "1. Ile unikalnych słów występuje w utworze\n",
    "1. Jakie słowo występuje najczęściej"
   ]
  },
  {
   "cell_type": "code",
   "execution_count": null,
   "metadata": {},
   "outputs": [],
   "source": [
    "# zliczanie słów z użyciem split\n",
    "total_words = 0\n",
    "with open('11-0.txt') as file:\n",
    "    for line in file:\n",
    "        for word in line.strip().split():\n",
    "            total_words += 1\n",
    "print(total_words)"
   ]
  },
  {
   "cell_type": "code",
   "execution_count": null,
   "metadata": {},
   "outputs": [],
   "source": [
    "import re\n",
    "# zliczanie słów\n",
    "total_words = 0\n",
    "with open(\"11-0.txt\") as file:\n",
    "    for line in file:\n",
    "        for word in re.findall(r'\\w+', line):\n",
    "            total_words += 1\n",
    "print(total_words)"
   ]
  },
  {
   "cell_type": "markdown",
   "metadata": {},
   "source": [
    "Metoda `split` nie radzi sobie z wyrażeniami w których użyte zostały znaki przystankowe (zostały one złączone ze słowami)."
   ]
  },
  {
   "cell_type": "code",
   "execution_count": null,
   "metadata": {},
   "outputs": [],
   "source": [
    "import re\n",
    "# zliczanie słów bez dodatkowej pętli\n",
    "total_words = 0\n",
    "with open(\"11-0.txt\") as file:\n",
    "    for line in file:\n",
    "        total_words += len(re.findall(r'\\w+', line))\n",
    "print(total_words)"
   ]
  },
  {
   "cell_type": "code",
   "execution_count": null,
   "metadata": {},
   "outputs": [],
   "source": [
    "import re\n",
    "# słownik do zliczania unikalnych słów\n",
    "words = dict()\n",
    "with open(\"11-0.txt\") as file:\n",
    "    for line in file:\n",
    "        for word in re.findall(r'\\w+', line.lower()):\n",
    "            if word in words:\n",
    "                words[word] += 1\n",
    "            else:\n",
    "                words[word] = 1\n",
    "# słownik unikalnych słów\n",
    "print(words)\n",
    "# liczba wpisów (kluczy) w słowniku\n",
    "print(len(words))\n",
    "# suma wartości dla kluczy słownika\n",
    "print(sum(words.values()))\n",
    "# największa liczba wystąpień\n",
    "print(max(words.values()))\n",
    "# najczęściej występujące słowo\n",
    "print(list(words.keys())[list(words.values()).index(max(words.values()))])\n",
    "print([word for word, occurrences in words.items() if occurrences == max(words.values())])"
   ]
  },
  {
   "cell_type": "markdown",
   "metadata": {},
   "source": [
    "Nim przystąpimy do implementacji warto sprawdzić czy nie istnieje pakiet implementujący dany algorytm"
   ]
  },
  {
   "cell_type": "code",
   "execution_count": null,
   "metadata": {},
   "outputs": [],
   "source": [
    "import re, urllib.request\n",
    "from collections import Counter\n",
    "# pobranie książki\n",
    "response = urllib.request.urlopen('http://www.gutenberg.org/files/11/11-0.txt')\n",
    "data = response.read()\n",
    "text = data.decode('utf-8')\n",
    "# lista słów\n",
    "words = re.findall(r'\\w+', text.lower())\n",
    "# odnalezienie najczęstszego słowa\n",
    "Counter(words).most_common(1)"
   ]
  }
 ],
 "metadata": {
  "kernelspec": {
   "display_name": "Python 3 (ipykernel)",
   "language": "python",
   "name": "python3"
  },
  "language_info": {
   "codemirror_mode": {
    "name": "ipython",
    "version": 3
   },
   "file_extension": ".py",
   "mimetype": "text/x-python",
   "name": "python",
   "nbconvert_exporter": "python",
   "pygments_lexer": "ipython3",
   "version": "3.11.3"
  }
 },
 "nbformat": 4,
 "nbformat_minor": 2
}
